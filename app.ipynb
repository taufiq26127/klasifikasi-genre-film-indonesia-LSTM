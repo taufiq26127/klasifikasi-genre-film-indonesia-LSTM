{
 "cells": [
  {
   "cell_type": "markdown",
   "metadata": {},
   "source": [
    "### Import Library"
   ]
  },
  {
   "cell_type": "code",
   "execution_count": 1,
   "metadata": {},
   "outputs": [],
   "source": [
    "import pandas as pd\n",
    "import numpy as np\n",
    "import matplotlib.pyplot as plt\n",
    "import seaborn as sns\n",
    "\n",
    "import tensorflow as tf\n",
    "from tensorflow.keras.preprocessing.text import Tokenizer\n",
    "from tensorflow.keras.preprocessing.sequence import pad_sequences\n",
    "from sklearn.model_selection import train_test_split\n",
    "\n",
    "from sklearn.metrics import confusion_matrix\n",
    "from sklearn.metrics import ConfusionMatrixDisplay"
   ]
  },
  {
   "cell_type": "markdown",
   "metadata": {},
   "source": [
    "### Read Dataset "
   ]
  },
  {
   "cell_type": "code",
   "execution_count": 3,
   "metadata": {},
   "outputs": [
    {
     "data": {
      "text/html": [
       "<div>\n",
       "<style scoped>\n",
       "    .dataframe tbody tr th:only-of-type {\n",
       "        vertical-align: middle;\n",
       "    }\n",
       "\n",
       "    .dataframe tbody tr th {\n",
       "        vertical-align: top;\n",
       "    }\n",
       "\n",
       "    .dataframe thead th {\n",
       "        text-align: right;\n",
       "    }\n",
       "</style>\n",
       "<table border=\"1\" class=\"dataframe\">\n",
       "  <thead>\n",
       "    <tr style=\"text-align: right;\">\n",
       "      <th></th>\n",
       "      <th>judul_film</th>\n",
       "      <th>ringkasan_sinopsis</th>\n",
       "      <th>genre</th>\n",
       "    </tr>\n",
       "  </thead>\n",
       "  <tbody>\n",
       "    <tr>\n",
       "      <th>0</th>\n",
       "      <td>Sunan Kalijaga</td>\n",
       "      <td>Raden Mas Said putra sulung Tumenggung Wilarik...</td>\n",
       "      <td>Drama</td>\n",
       "    </tr>\n",
       "    <tr>\n",
       "      <th>1</th>\n",
       "      <td>Gie</td>\n",
       "      <td>Soe Hok Gie adalah seorang aktivis yang hidup ...</td>\n",
       "      <td>Drama</td>\n",
       "    </tr>\n",
       "    <tr>\n",
       "      <th>2</th>\n",
       "      <td>Guru Bangsa Tjokroaminoto</td>\n",
       "      <td>Guru Bangsa Tjokroaminoto menceritakan tentang...</td>\n",
       "      <td>Drama</td>\n",
       "    </tr>\n",
       "    <tr>\n",
       "      <th>3</th>\n",
       "      <td>POL Movie</td>\n",
       "      <td>POL menceritakan kisah hidup yang luar biasa d...</td>\n",
       "      <td>Drama</td>\n",
       "    </tr>\n",
       "    <tr>\n",
       "      <th>4</th>\n",
       "      <td>Sang pencerah</td>\n",
       "      <td>Perjalanan pahlawan Indonesia KH Ahmad Dahlan ...</td>\n",
       "      <td>Drama</td>\n",
       "    </tr>\n",
       "    <tr>\n",
       "      <th>...</th>\n",
       "      <td>...</td>\n",
       "      <td>...</td>\n",
       "      <td>...</td>\n",
       "    </tr>\n",
       "    <tr>\n",
       "      <th>1000</th>\n",
       "      <td>Winter in Tokyo</td>\n",
       "      <td>Winter in Tokyo berpusat pada kehidupan Ishida...</td>\n",
       "      <td>Romantis</td>\n",
       "    </tr>\n",
       "    <tr>\n",
       "      <th>1001</th>\n",
       "      <td>Petualang Cinta</td>\n",
       "      <td>Markonah melarikan diri ke Jakarta karena akan...</td>\n",
       "      <td>Romantis</td>\n",
       "    </tr>\n",
       "    <tr>\n",
       "      <th>1002</th>\n",
       "      <td>Last Night (III)</td>\n",
       "      <td>Tempat aking lebih dari 36 jam, Last Night ada...</td>\n",
       "      <td>Romantis</td>\n",
       "    </tr>\n",
       "    <tr>\n",
       "      <th>1003</th>\n",
       "      <td>Path of Light</td>\n",
       "      <td>Proyek baru ini adalah tentang seorang lelaki ...</td>\n",
       "      <td>Romantis</td>\n",
       "    </tr>\n",
       "    <tr>\n",
       "      <th>1004</th>\n",
       "      <td>Kulihat cinta di matanya</td>\n",
       "      <td>Atika (Meriam Bellina) mantan penyanyi tenar, ...</td>\n",
       "      <td>Romantis</td>\n",
       "    </tr>\n",
       "  </tbody>\n",
       "</table>\n",
       "<p>1005 rows × 3 columns</p>\n",
       "</div>"
      ],
      "text/plain": [
       "                     judul_film  \\\n",
       "0                Sunan Kalijaga   \n",
       "1                           Gie   \n",
       "2     Guru Bangsa Tjokroaminoto   \n",
       "3                     POL Movie   \n",
       "4                 Sang pencerah   \n",
       "...                         ...   \n",
       "1000            Winter in Tokyo   \n",
       "1001            Petualang Cinta   \n",
       "1002           Last Night (III)   \n",
       "1003              Path of Light   \n",
       "1004   Kulihat cinta di matanya   \n",
       "\n",
       "                                     ringkasan_sinopsis     genre  \n",
       "0     Raden Mas Said putra sulung Tumenggung Wilarik...     Drama  \n",
       "1     Soe Hok Gie adalah seorang aktivis yang hidup ...     Drama  \n",
       "2     Guru Bangsa Tjokroaminoto menceritakan tentang...     Drama  \n",
       "3     POL menceritakan kisah hidup yang luar biasa d...     Drama  \n",
       "4     Perjalanan pahlawan Indonesia KH Ahmad Dahlan ...     Drama  \n",
       "...                                                 ...       ...  \n",
       "1000  Winter in Tokyo berpusat pada kehidupan Ishida...  Romantis  \n",
       "1001  Markonah melarikan diri ke Jakarta karena akan...  Romantis  \n",
       "1002  Tempat aking lebih dari 36 jam, Last Night ada...  Romantis  \n",
       "1003  Proyek baru ini adalah tentang seorang lelaki ...  Romantis  \n",
       "1004  Atika (Meriam Bellina) mantan penyanyi tenar, ...  Romantis  \n",
       "\n",
       "[1005 rows x 3 columns]"
      ]
     },
     "execution_count": 3,
     "metadata": {},
     "output_type": "execute_result"
    }
   ],
   "source": [
    "path_file = 'dataset/imdb_indonesian_movies.csv'\n",
    "\n",
    "df = pd.read_csv(path_file)\n",
    "df"
   ]
  },
  {
   "cell_type": "code",
   "execution_count": 4,
   "metadata": {},
   "outputs": [
    {
     "data": {
      "text/plain": [
       "genre\n",
       "Drama       202\n",
       "Laga        202\n",
       "Komedi      201\n",
       "Horor       200\n",
       "Romantis    200\n",
       "Name: count, dtype: int64"
      ]
     },
     "execution_count": 4,
     "metadata": {},
     "output_type": "execute_result"
    }
   ],
   "source": [
    "df.genre.value_counts()"
   ]
  },
  {
   "cell_type": "code",
   "execution_count": 5,
   "metadata": {},
   "outputs": [
    {
     "data": {
      "text/html": [
       "<div>\n",
       "<style scoped>\n",
       "    .dataframe tbody tr th:only-of-type {\n",
       "        vertical-align: middle;\n",
       "    }\n",
       "\n",
       "    .dataframe tbody tr th {\n",
       "        vertical-align: top;\n",
       "    }\n",
       "\n",
       "    .dataframe thead th {\n",
       "        text-align: right;\n",
       "    }\n",
       "</style>\n",
       "<table border=\"1\" class=\"dataframe\">\n",
       "  <thead>\n",
       "    <tr style=\"text-align: right;\">\n",
       "      <th></th>\n",
       "      <th>judul_film</th>\n",
       "      <th>ringkasan_sinopsis</th>\n",
       "      <th>Drama</th>\n",
       "      <th>Horor</th>\n",
       "      <th>Komedi</th>\n",
       "      <th>Laga</th>\n",
       "      <th>Romantis</th>\n",
       "    </tr>\n",
       "  </thead>\n",
       "  <tbody>\n",
       "    <tr>\n",
       "      <th>0</th>\n",
       "      <td>Sunan Kalijaga</td>\n",
       "      <td>Raden Mas Said putra sulung Tumenggung Wilarik...</td>\n",
       "      <td>1</td>\n",
       "      <td>0</td>\n",
       "      <td>0</td>\n",
       "      <td>0</td>\n",
       "      <td>0</td>\n",
       "    </tr>\n",
       "    <tr>\n",
       "      <th>1</th>\n",
       "      <td>Gie</td>\n",
       "      <td>Soe Hok Gie adalah seorang aktivis yang hidup ...</td>\n",
       "      <td>1</td>\n",
       "      <td>0</td>\n",
       "      <td>0</td>\n",
       "      <td>0</td>\n",
       "      <td>0</td>\n",
       "    </tr>\n",
       "    <tr>\n",
       "      <th>2</th>\n",
       "      <td>Guru Bangsa Tjokroaminoto</td>\n",
       "      <td>Guru Bangsa Tjokroaminoto menceritakan tentang...</td>\n",
       "      <td>1</td>\n",
       "      <td>0</td>\n",
       "      <td>0</td>\n",
       "      <td>0</td>\n",
       "      <td>0</td>\n",
       "    </tr>\n",
       "    <tr>\n",
       "      <th>3</th>\n",
       "      <td>POL Movie</td>\n",
       "      <td>POL menceritakan kisah hidup yang luar biasa d...</td>\n",
       "      <td>1</td>\n",
       "      <td>0</td>\n",
       "      <td>0</td>\n",
       "      <td>0</td>\n",
       "      <td>0</td>\n",
       "    </tr>\n",
       "    <tr>\n",
       "      <th>4</th>\n",
       "      <td>Sang pencerah</td>\n",
       "      <td>Perjalanan pahlawan Indonesia KH Ahmad Dahlan ...</td>\n",
       "      <td>1</td>\n",
       "      <td>0</td>\n",
       "      <td>0</td>\n",
       "      <td>0</td>\n",
       "      <td>0</td>\n",
       "    </tr>\n",
       "  </tbody>\n",
       "</table>\n",
       "</div>"
      ],
      "text/plain": [
       "                  judul_film  \\\n",
       "0             Sunan Kalijaga   \n",
       "1                        Gie   \n",
       "2  Guru Bangsa Tjokroaminoto   \n",
       "3                  POL Movie   \n",
       "4              Sang pencerah   \n",
       "\n",
       "                                  ringkasan_sinopsis  Drama  Horor  Komedi  \\\n",
       "0  Raden Mas Said putra sulung Tumenggung Wilarik...      1      0       0   \n",
       "1  Soe Hok Gie adalah seorang aktivis yang hidup ...      1      0       0   \n",
       "2  Guru Bangsa Tjokroaminoto menceritakan tentang...      1      0       0   \n",
       "3  POL menceritakan kisah hidup yang luar biasa d...      1      0       0   \n",
       "4  Perjalanan pahlawan Indonesia KH Ahmad Dahlan ...      1      0       0   \n",
       "\n",
       "   Laga  Romantis  \n",
       "0     0         0  \n",
       "1     0         0  \n",
       "2     0         0  \n",
       "3     0         0  \n",
       "4     0         0  "
      ]
     },
     "execution_count": 5,
     "metadata": {},
     "output_type": "execute_result"
    }
   ],
   "source": [
    "category = pd.get_dummies(df.genre).astype(int)\n",
    "df_baru = pd.concat([df, category], axis=1)\n",
    "df_baru = df_baru.drop(columns='genre')\n",
    "df_baru.head()"
   ]
  },
  {
   "cell_type": "code",
   "execution_count": 6,
   "metadata": {},
   "outputs": [],
   "source": [
    "sinopsis = df_baru['ringkasan_sinopsis'].values\n",
    "label = df_baru[['Drama','Horor'\t,'Komedi','Laga', 'Romantis']].values"
   ]
  },
  {
   "cell_type": "markdown",
   "metadata": {},
   "source": [
    "### Split Dataset"
   ]
  },
  {
   "cell_type": "code",
   "execution_count": 7,
   "metadata": {},
   "outputs": [],
   "source": [
    "from sklearn.model_selection import train_test_split\n",
    "sinopsis_latih, sinopsis_test, label_latih, label_test = train_test_split(sinopsis, label, test_size=0.2)"
   ]
  },
  {
   "cell_type": "markdown",
   "metadata": {},
   "source": [
    "### Train Model"
   ]
  },
  {
   "cell_type": "code",
   "execution_count": 8,
   "metadata": {},
   "outputs": [],
   "source": [
    "import tensorflow\n",
    "from tensorflow.keras.preprocessing.text import Tokenizer\n",
    "from tensorflow.keras.preprocessing.sequence import pad_sequences\n",
    "\n",
    "tokenizer = Tokenizer(num_words=5000, oov_token='x')\n",
    "tokenizer.fit_on_texts(sinopsis_latih)\n",
    "tokenizer.fit_on_texts(sinopsis_test)\n",
    "\n",
    "sequence_latih = tokenizer.texts_to_sequences(sinopsis_latih)\n",
    "sequence_test = tokenizer.texts_to_sequences(sinopsis_test)\n",
    "\n",
    "max_length = 200\n",
    "padded_latih = pad_sequences(sequence_latih, maxlen=max_length)\n",
    "padded_test = pad_sequences(sequence_test, maxlen=max_length)"
   ]
  },
  {
   "cell_type": "code",
   "execution_count": 9,
   "metadata": {},
   "outputs": [],
   "source": [
    "import tensorflow as tf\n",
    "\n",
    "model = tf.keras.Sequential([\n",
    "    tf.keras.layers.Embedding(input_dim=5000, output_dim=32),\n",
    "    tf.keras.layers.LSTM(64),\n",
    "    tf.keras.layers.Dense(128, activation='relu'),\n",
    "    tf.keras.layers.Dense(64, activation='relu'),\n",
    "    tf.keras.layers.Dense(5, activation='softmax')\n",
    "])\n",
    "\n",
    "model.compile(loss='categorical_crossentropy', optimizer='adam',metrics=['accuracy'])"
   ]
  },
  {
   "cell_type": "code",
   "execution_count": 10,
   "metadata": {},
   "outputs": [
    {
     "name": "stdout",
     "output_type": "stream",
     "text": [
      "Epoch 1/10\n",
      "26/26 - 11s - loss: 1.6101 - accuracy: 0.1928 - val_loss: 1.6122 - val_accuracy: 0.1592 - 11s/epoch - 418ms/step\n",
      "Epoch 2/10\n",
      "26/26 - 0s - loss: 1.6016 - accuracy: 0.2400 - val_loss: 1.6116 - val_accuracy: 0.1741 - 490ms/epoch - 19ms/step\n",
      "Epoch 3/10\n",
      "26/26 - 0s - loss: 1.5217 - accuracy: 0.3470 - val_loss: 1.6294 - val_accuracy: 0.1692 - 447ms/epoch - 17ms/step\n",
      "Epoch 4/10\n",
      "26/26 - 0s - loss: 1.2215 - accuracy: 0.4502 - val_loss: 1.8466 - val_accuracy: 0.2338 - 448ms/epoch - 17ms/step\n",
      "Epoch 5/10\n",
      "26/26 - 1s - loss: 0.8548 - accuracy: 0.6679 - val_loss: 2.1398 - val_accuracy: 0.2537 - 506ms/epoch - 19ms/step\n",
      "Epoch 6/10\n",
      "26/26 - 1s - loss: 0.5493 - accuracy: 0.8047 - val_loss: 2.9208 - val_accuracy: 0.2488 - 501ms/epoch - 19ms/step\n",
      "Epoch 7/10\n",
      "26/26 - 0s - loss: 0.3267 - accuracy: 0.8955 - val_loss: 3.2345 - val_accuracy: 0.2786 - 478ms/epoch - 18ms/step\n",
      "Epoch 8/10\n",
      "26/26 - 0s - loss: 0.1665 - accuracy: 0.9577 - val_loss: 3.7299 - val_accuracy: 0.2786 - 482ms/epoch - 19ms/step\n",
      "Epoch 9/10\n",
      "26/26 - 0s - loss: 0.0843 - accuracy: 0.9801 - val_loss: 3.4873 - val_accuracy: 0.2886 - 474ms/epoch - 18ms/step\n",
      "Epoch 10/10\n",
      "26/26 - 0s - loss: 0.0574 - accuracy: 0.9888 - val_loss: 4.3271 - val_accuracy: 0.3035 - 477ms/epoch - 18ms/step\n"
     ]
    }
   ],
   "source": [
    "num_epochs = 10\n",
    "\n",
    "history = model.fit(padded_latih, label_latih,\n",
    "                    epochs=num_epochs, validation_data=(padded_test, label_test), verbose=2)"
   ]
  },
  {
   "cell_type": "markdown",
   "metadata": {},
   "source": [
    "### Test Model"
   ]
  },
  {
   "cell_type": "code",
   "execution_count": 11,
   "metadata": {},
   "outputs": [
    {
     "data": {
      "text/plain": [
       "'Kisah ini terentang sepanjang 21 tahun. Dan dalam waktu yang sekian panjang itu, peristiwa-peristiwa yang fantastis terjadi. Semarang 1966. Roy Paturungi (Deddy Mizwar), anak yatim, marah besar karena ujian dari dosen Handoko (Pitrajaya Burnama) tidak pernah lulus. Handoko mempunyai sentimen khusus, karena Roy saling cinta dengan anaknya Paramita (Sophia Latjuba) yang sudah ditinggal ibunya. Handoko tidak ingin anaknya lepas dari dirinya. Ia sangat posesif. Kemarahan Roy dilampiaskan dengan merusak mobil Handoko, hingga ia masuk penjara dua tahun. Keluar dari penjara, ia disembunyikan beberapa hari di kamar Paramita. Lalu menghilang. Hasilnya Paramita mengandung dan ketika tahu, Handoko terguncang dan meninggal. Dalam keadaan terguncang pula, Paramita melahirkan bayi kembar laki-laki. Ia menolak kehadiran bayi itu, karena dianggap penyebab mati ayahnya. Maka atas prakarsa dokter keluarga, dr. Alim (Henky Solaiman) dan rekan psikiaternya, kedua bayi itu diusahakan di adopsi oleh dua keluarga berbeda. Jakarta 1983. Dua bayi itu menjadi Ardi (Rano Karno), besar dalam keluarga sederhana, dan Erik (Tio Pakusadewo), tumbuh dalam keluarga berantakan tetapi kaya. Erik dan Ardi satu universitas, lain fakultas. Mereka mengincar gadis yang sama, Vina (Luci Parnita). Permusuhan terjadi dan Ardi selalu mengalah. Sementara Norma, mahasiswa disitu juga, lebih menaruh hati pada Ardi. Norma ini ternyata anak Roy. Dalam suatu pesta, Norma adu minum bir dengan Erik, lalu terjadi hubungan seks.'"
      ]
     },
     "execution_count": 11,
     "metadata": {},
     "output_type": "execute_result"
    }
   ],
   "source": [
    "sinopsis_latih[1]"
   ]
  },
  {
   "cell_type": "code",
   "execution_count": 12,
   "metadata": {},
   "outputs": [
    {
     "data": {
      "text/plain": [
       "array([ 379,    2, 4312,  113, 3484, 4312,  893, 4312,  894, 2506,   20,\n",
       "       1423,  242,  156,   14, 1740,    8, 1105, 1106, 4277, 3485,   10,\n",
       "         98,  632, 1106,  318, 4312,  759,   14,  893,  209,   35,    5,\n",
       "        160, 3486, 2925, 2926,    2,   50, 1021,   80, 1106,   10,   69,\n",
       "        160,  450,    8,  122,   11,   59, 4312, 2507,  893, 4312,    5,\n",
       "       2204,  217, 1106,   64,   11,  168,  343,  108,   58,  250,    8,\n",
       "        343,   11, 3487,  200,   61,    4,  369, 3486,   75,  805, 3488,\n",
       "       3486, 1941,    3,   28,  117, 1106, 1565,    3,  120,   17,  277,\n",
       "       1565,  573, 3486, 1022,  601, 2508,  184,  184,   11,  370,  699,\n",
       "        601,    9,   14,  394, 1424,  220,   81,  155,  146, 4312,  264,\n",
       "         68,  665, 4312, 4312, 4312,    3,  700, 4312,  201,  601,    9,\n",
       "       4312,    4, 4312,   16,  108,   68,  252,   91, 4312,  108,  601,\n",
       "          9,   18, 1023,  854, 1741,  156,   17,   68,  666,    3, 4278,\n",
       "       1566, 1567,  477,   17,   68,  962,   56,  236, 4278,    3, 1023,\n",
       "         41, 1107,   63, 3489,    7, 2927,   48,    2,   89, 4312, 4312,\n",
       "       4312, 3490,  113,    3, 1023,   53, 4279,  102, 1942,  380, 2205,\n",
       "         25,   92,  760,  111,   21, 1023, 1942,   15,   40,   20,  893,\n",
       "         17,   71,  422, 1942, 4280, 3491, 4312,    5, 4278,   75,  113,\n",
       "         93, 1108])"
      ]
     },
     "execution_count": 12,
     "metadata": {},
     "output_type": "execute_result"
    }
   ],
   "source": [
    "padded_latih[1]"
   ]
  },
  {
   "cell_type": "code",
   "execution_count": 13,
   "metadata": {},
   "outputs": [
    {
     "data": {
      "text/plain": [
       "array([0, 0, 0, 1, 0])"
      ]
     },
     "execution_count": 13,
     "metadata": {},
     "output_type": "execute_result"
    }
   ],
   "source": [
    "label_latih[1]"
   ]
  },
  {
   "cell_type": "code",
   "execution_count": 14,
   "metadata": {},
   "outputs": [],
   "source": [
    "def prediksi(text):\n",
    "  text_sequence = tokenizer.texts_to_sequences(text)\n",
    "\n",
    "  text_padded = pad_sequences(text_sequence, maxlen=200)\n",
    "  return text_padded"
   ]
  },
  {
   "cell_type": "code",
   "execution_count": 15,
   "metadata": {},
   "outputs": [
    {
     "name": "stdout",
     "output_type": "stream",
     "text": [
      "1/1 [==============================] - 0s 369ms/step\n"
     ]
    },
    {
     "data": {
      "text/plain": [
       "array([[1.1311138e-05, 1.4572903e-07, 6.1281334e-04, 9.9937576e-01,\n",
       "        3.9473494e-11]], dtype=float32)"
      ]
     },
     "execution_count": 15,
     "metadata": {},
     "output_type": "execute_result"
    }
   ],
   "source": [
    "predict = model.predict(prediksi([sinopsis_latih[1]]))\n",
    "predict"
   ]
  },
  {
   "cell_type": "code",
   "execution_count": 16,
   "metadata": {},
   "outputs": [
    {
     "data": {
      "text/plain": [
       "3"
      ]
     },
     "execution_count": 16,
     "metadata": {},
     "output_type": "execute_result"
    }
   ],
   "source": [
    "import numpy as np\n",
    "\n",
    "np.argmax(predict)"
   ]
  },
  {
   "cell_type": "markdown",
   "metadata": {},
   "source": [
    "### Evaluation"
   ]
  },
  {
   "cell_type": "code",
   "execution_count": 17,
   "metadata": {},
   "outputs": [
    {
     "name": "stdout",
     "output_type": "stream",
     "text": [
      "7/7 [==============================] - 0s 14ms/step\n"
     ]
    }
   ],
   "source": [
    "from sklearn.metrics import confusion_matrix\n",
    "\n",
    "# Prediksi kelas untuk data uji\n",
    "y_pred = model.predict(padded_test)\n",
    "\n",
    "# Konversi prediksi probabilitas menjadi kelas\n",
    "y_pred_classes = np.argmax(y_pred, axis=1)\n",
    "\n",
    "# Konversi label validasi ke kelas\n",
    "y_true = np.argmax(label_test, axis=1)\n",
    "\n",
    "\n",
    "# Hitung confusion matrix\n",
    "cm = confusion_matrix(y_true, y_pred_classes)"
   ]
  },
  {
   "cell_type": "code",
   "execution_count": 19,
   "metadata": {},
   "outputs": [
    {
     "data": {
      "image/png": "[encoded data removed]",
      "text/plain": [
       "<Figure size 800x600 with 1 Axes>"
      ]
     },
     "metadata": {},
     "output_type": "display_data"
    }
   ],
   "source": [
    "import matplotlib.pyplot as plt\n",
    "import seaborn as sns\n",
    "\n",
    "plt.figure(figsize=(8, 6))\n",
    "sns.heatmap(cm, annot=True, fmt='d', cmap='Blues', cbar=False,\n",
    "            xticklabels=range(5), yticklabels=range(5))\n",
    "plt.xlabel('Predicted Labels')\n",
    "plt.ylabel('True Labels')\n",
    "plt.title('Confusion Matrix')\n",
    "plt.show()\n"
   ]
  }
 ],
 "metadata": {
  "kernelspec": {
   "display_name": "Python 3",
   "language": "python",
   "name": "python3"
  },
  "language_info": {
   "codemirror_mode": {
    "name": "ipython",
    "version": 3
   },
   "file_extension": ".py",
   "mimetype": "text/x-python",
   "name": "python",
   "nbconvert_exporter": "python",
   "pygments_lexer": "ipython3",
   "version": "3.10.3"
  }
 },
 "nbformat": 4,
 "nbformat_minor": 2
}
